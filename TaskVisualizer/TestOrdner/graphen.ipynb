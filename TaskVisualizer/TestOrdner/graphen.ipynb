{
 "cells": [
  {
   "cell_type": "code",
   "execution_count": 4,
   "metadata": {},
   "outputs": [],
   "source": [
    "import graphviz as gv\n",
    "# Hab das mal bei mir installiert für die Darstellung\n",
    "import os"
   ]
  },
  {
   "cell_type": "code",
   "execution_count": 10,
   "metadata": {},
   "outputs": [],
   "source": [
    "# https://graphviz.readthedocs.io/en/stable/manual.html\n",
    "\n",
    "# Bildname kommt hinten in die Klammer rein\n",
    "# Die dot Variable immer vor so einem Block ausführen\n",
    "dot = gv.Digraph(comment='TestGraph')\n",
    "\n",
    "dot.node('A', shape='rectangle', label='A')\n",
    "dot.node('B', label='B')\n",
    "\n",
    "dot.edge('A', 'B', arrowhead='vee')\n",
    "\n",
    "dot.render('rectangle_arrow', view=True, format='svg')\n",
    "os.remove(\"rectangle_arrow\")\n",
    "\n"
   ]
  }
 ],
 "metadata": {
  "kernelspec": {
   "display_name": "Python 3",
   "language": "python",
   "name": "python3"
  },
  "language_info": {
   "codemirror_mode": {
    "name": "ipython",
    "version": 3
   },
   "file_extension": ".py",
   "mimetype": "text/x-python",
   "name": "python",
   "nbconvert_exporter": "python",
   "pygments_lexer": "ipython3",
   "version": "3.10.2"
  },
  "orig_nbformat": 4
 },
 "nbformat": 4,
 "nbformat_minor": 2
}

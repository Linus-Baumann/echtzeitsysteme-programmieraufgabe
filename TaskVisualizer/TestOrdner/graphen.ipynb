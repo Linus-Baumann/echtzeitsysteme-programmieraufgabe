{
 "cells": [
  {
   "cell_type": "code",
   "execution_count": 14,
   "metadata": {},
   "outputs": [],
   "source": [
    "import graphviz as gv\n",
    "# Hab das mal bei mir installiert für die Darstellung\n",
    "import os\n",
    "\n",
    "import csv, re\n",
    "import numpy as np\n",
    "from typing import List"
   ]
  },
  {
   "cell_type": "code",
   "execution_count": 15,
   "metadata": {},
   "outputs": [
    {
     "name": "stdout",
     "output_type": "stream",
     "text": [
      "[['Semaphore', ' 12', ' 0'], ['Semaphore', ' 24', ' 0'], ['Semaphore', ' 13', ' 0'], ['Semaphore', ' 36', ' 0'], ['Semaphore', ' 24', ' 0'], ['Semaphore', ' 46', ' 0'], ['Semaphore', ' 65', ' 0'], ['Semaphore', ' 5ab', ' 0'], ['Semaphore', ' 5ba', ' 1'], ['Semaphore', ' 51', ' 1'], ['Semaphore', ' 46', ' 0'], ['Semaphore', ' 65', ' 0'], ['Semaphore', ' 42', ' 0'], ['Mutex', ' 234'], ['Mutex', ' 345'], ['Activity', ' 1', ' 8', ' 51', ' 12;13', ' x'], ['Activity', ' TEST', ' 8', ' 51:42;13', ' 12;13', ' x'], ['Activity', ' 2', ' 8', ' 12', ' 24', ' 234;345'], ['Activity', ' 3', ' 8', ' 13', ' 36', ' 234'], ['Activity', ' 4', ' 8', ' 24', ' 46', ' 234'], ['Activity', ' 5a', ' 8', ' 65;5ba', ' 5ab', ' x'], ['Activity', ' 5b', ' 8', ' 5ab', ' 51;5ba', ' x'], ['Activity', ' 6', ' 8', ' 46;36', ' 65', ' x'], ['Task', ' 1', ' 1'], ['Task', ' 2', ' 2'], ['Task', ' 3', ' 3'], ['Task', ' 4', ' 4'], ['Task', ' 5', ' 5a;5b'], ['Task', ' 6', ' 6']]\n"
     ]
    }
   ],
   "source": [
    "rows = []\n",
    "with open(\"../../example-structure.csv\", \"r\") as f:\n",
    "    reader = csv.reader(f)\n",
    "    rows = [row for row in reader if row != []]\n",
    "print(rows)"
   ]
  },
  {
   "cell_type": "code",
   "execution_count": 21,
   "metadata": {},
   "outputs": [
    {
     "name": "stdout",
     "output_type": "stream",
     "text": [
      "Semaphore created\n",
      "Semaphore created\n",
      "Semaphore created\n",
      "Semaphore created\n",
      "Semaphore created\n",
      "Semaphore created\n",
      "Semaphore created\n",
      "Semaphore created\n",
      "Semaphore created\n",
      "Semaphore created\n",
      "Semaphore created\n",
      "Semaphore created\n",
      "Semaphore created\n",
      "Activity created\n",
      "Activity created\n",
      "Activity created\n",
      "Activity created\n",
      "Activity created\n",
      "Activity created\n",
      "Activity created\n",
      "Activity created\n",
      "Task created\n",
      "Task created\n",
      "Task created\n",
      "Task created\n",
      "Task created\n",
      "Task created\n",
      "Finihsed\n"
     ]
    }
   ],
   "source": [
    "class Semaphore():\n",
    "    def __init__(self, name, value=0):\n",
    "        self._name = name\n",
    "        self._value = value\n",
    "class Activity():\n",
    "    def __init__(self, name, duration, incoming_semaphores, outgoing_semaphores):\n",
    "        self._name = name\n",
    "        self._duration = duration\n",
    "        self._incoming_semaphores = incoming_semaphores\n",
    "        self._outgoing_semaphores = outgoing_semaphores\n",
    "class Task():\n",
    "    def __init__(self, task_name, activity_list: List):\n",
    "        self._name = task_name\n",
    "        self._activities = activity_list\n",
    "    def get_name(self) -> str:\n",
    "        return self._name\n",
    "    @property\n",
    "    def get_activities(self) -> List:\n",
    "        return self._activities\n",
    "\n",
    "class Mutex():\n",
    "    def __init__(self, activity_list: List):\n",
    "        self._activity_list = activity_list\n",
    "        self._reserved = False\n",
    "\n",
    "_semaphores = []\n",
    "_activities = []\n",
    "_tasks = []\n",
    "_mutexes = []\n",
    "\n",
    "def find_activities( activities) -> List[Activity]:\n",
    "    found_activities = []\n",
    "    for activty in activities.split(\";\"):\n",
    "        found_activities.append(find_in_array(_activities, activty))\n",
    "    return found_activities\n",
    "def parse(rows):\n",
    "        global _semaphores, _activities, _tasks, _mutexes\n",
    "        for object in rows:\n",
    "            if object[0] == \"Task\":\n",
    "                included_activities = find_activities(object[2])\n",
    "                _tasks.append(Task(object[1], included_activities))\n",
    "                print(\"Task created\")\n",
    "            elif object[0] == \"Activity\":\n",
    "                incoming_semaphores = find_semaphores(object[3])\n",
    "                outgoing_semaphores = find_semaphores(object[4])\n",
    "                _activities.append(Activity(object[1], object[2], incoming_semaphores, outgoing_semaphores))\n",
    "                print(\"Activity created\")\n",
    "            elif object[0] == \"Semaphore\":\n",
    "                _semaphores.append(Semaphore(object[1].strip(), object[2].strip()))\n",
    "                print(\"Semaphore created\")\n",
    "            #elif object[0] == \"Mutex\":\n",
    "            #    connected_semaphores = find_semaphores(object[1])\n",
    "            #    _mutexes.append(Mutex(connected_semaphores))\n",
    "            #    print(\"Mutex created\")\n",
    "\n",
    "def find_semaphores( semaphores) -> List[Semaphore]:\n",
    "    found_semaphores = []\n",
    "    for semaphore in semaphores.split(\";\"):\n",
    "        if semaphore.count(\":\") > 0:\n",
    "            found_semaphore_relation = []\n",
    "            # Do something if argument is a numpy array\n",
    "            for related_semaphore in semaphore.split(\":\"):\n",
    "                found_semaphore_relation.append(find_in_array(_semaphores, related_semaphore.strip()))\n",
    "            found_semaphores.append(found_semaphore_relation)\n",
    "        else:\n",
    "            # Do something if argument is a string\n",
    "            found_semaphores.append(find_in_array(_semaphores, semaphore))\n",
    "    return found_semaphores\n",
    "\n",
    "def find_in_array(array, name):\n",
    "    return [element for element in array if element._name == name.strip()]\n",
    "\n",
    "\n",
    "parse(rows)\n",
    "print(\"Finihsed\")"
   ]
  },
  {
   "cell_type": "code",
   "execution_count": 36,
   "metadata": {},
   "outputs": [],
   "source": [
    "# https://graphviz.readthedocs.io/en/stable/manual.html\n",
    "\n",
    "# Bildname kommt hinten in die Klammer rein\n",
    "# Die dot Variable immer vor so einem Block ausführen\n",
    "dot = gv.Digraph(comment='TestGraph')\n",
    "\n",
    "for task in _tasks:\n",
    "    task_name = task.get_name()\n",
    "    #act_list = ' '.join(task.get_activities())   \n",
    "    dot.node(name=task_name,shape='record', style='filled', fillcolor='green', label=f\"{task_name}|Activity\")\n",
    "    pass\n",
    "\n",
    "\n",
    "#dot.node('A', shape='record', style='filled', fillcolor='green', label='{Up|Down}')\n",
    "#dot.node('B', shape='record', style='filled', fillcolor='white', label='{Up|Down}')\n",
    "task1 = _tasks[0].get_name()\n",
    "task2 = _tasks[1].get_name()\n",
    "dot.edge(f'{task1}', f'{task2}', label='15', arrowhead='', color='green')\n",
    "\n",
    "dot.render('rectangle_arrow', view=True, format='svg')\n",
    "os.remove(\"rectangle_arrow\")"
   ]
  },
  {
   "cell_type": "code",
   "execution_count": null,
   "metadata": {},
   "outputs": [],
   "source": [
    "# Erstellen der Tasks / Aktivitäten \n",
    "# Verbinden durch Semaphoren\n",
    "# Erstellen der Mutexes und dazugehörigen Verbindungen\n",
    "#\n",
    "#"
   ]
  }
 ],
 "metadata": {
  "kernelspec": {
   "display_name": "Python 3",
   "language": "python",
   "name": "python3"
  },
  "language_info": {
   "codemirror_mode": {
    "name": "ipython",
    "version": 3
   },
   "file_extension": ".py",
   "mimetype": "text/x-python",
   "name": "python",
   "nbconvert_exporter": "python",
   "pygments_lexer": "ipython3",
   "version": "3.10.2"
  },
  "orig_nbformat": 4
 },
 "nbformat": 4,
 "nbformat_minor": 2
}

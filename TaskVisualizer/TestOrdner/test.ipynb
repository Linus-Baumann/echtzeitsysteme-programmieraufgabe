{
 "cells": [
  {
   "cell_type": "code",
   "execution_count": 1,
   "metadata": {},
   "outputs": [],
   "source": [
    "import csv\n",
    "import numpy as np\n",
    "from typing import List"
   ]
  },
  {
   "cell_type": "code",
   "execution_count": 2,
   "metadata": {},
   "outputs": [],
   "source": [
    "rows = []"
   ]
  },
  {
   "cell_type": "code",
   "execution_count": 5,
   "metadata": {},
   "outputs": [],
   "source": [
    "with open(\"../../example-structure.csv\", \"r\") as f:\n",
    "                reader = csv.reader(f)\n",
    "                rows = [row for row in reader]"
   ]
  },
  {
   "cell_type": "code",
   "execution_count": 6,
   "metadata": {},
   "outputs": [
    {
     "data": {
      "text/plain": [
       "[['Task', ' AktivitÃ¤t', ' Semaphores_IN', ' Semaphores_OUT', ' Mutex'],\n",
       " ['1', ' 1', ' 51', ' 12;13', ' xx'],\n",
       " ['2', '2', '12', '24', '234'],\n",
       " ['3', '3', '13', '36', '234'],\n",
       " ['4', '4', '24', '46', '234'],\n",
       " ['5', '5a', '65;5a', '5b', 'xx'],\n",
       " ['5', '5b', '5b', '5a;51', 'xx'],\n",
       " ['6', '6', '36;46', '65', 'xx'],\n",
       " [],\n",
       " ['//WÃ¤re das nicht sinnvoller? Das so aufzubauen '],\n",
       " ['Task', ' Name', ' AktivitÃ¤t', ' AktivitÃ¤t'],\n",
       " ['Semaphore', ' von', ' zu', ' anfangsAktiv'],\n",
       " ['Mutex', ' AktivitÃ¤t', ' AktivitÃ¤t', ' AktivitÃ¤t'],\n",
       " ['AktivitÃ¤t', ' Name', ' dauer  '],\n",
       " [],\n",
       " [],\n",
       " ['AktivitÃ¤t', ' 1', ' ?'],\n",
       " ['AktivitÃ¤t', ' 2', ' ?'],\n",
       " ['AktivitÃ¤t', ' 3', ' ?'],\n",
       " ['AktivitÃ¤t', ' 4', ' ?'],\n",
       " ['AktivitÃ¤t', ' 5a', ' ?'],\n",
       " ['AktivitÃ¤t', ' 5b', ' ?'],\n",
       " ['AktivitÃ¤t', ' 6', ' ?'],\n",
       " ['Task', ' 1', ' 1'],\n",
       " ['Task', ' 2', ' 2'],\n",
       " ['Task', ' 3', ' 3'],\n",
       " ['Task', ' 4', ' 4'],\n",
       " ['Task', ' 5', ' 5a'],\n",
       " ['Task', ' 5', ' 5b'],\n",
       " ['Task', ' 6', ' 6'],\n",
       " ['Mutex', ' 2', '3', '4'],\n",
       " ['Semaphore', ' 1', ' 2'],\n",
       " ['Semaphore', ' 2', ' 4'],\n",
       " ['Semaphore', ' 1', ' 3'],\n",
       " ['Semaphore', ' 3', ' 6'],\n",
       " ['Semaphore', ' 2', ' 4'],\n",
       " ['Semaphore', ' 4', ' 6'],\n",
       " ['Semaphore', ' 6', ' 5'],\n",
       " ['Semaphore', ' 5a', ' 5b'],\n",
       " ['Semaphore', ' 5b', ' 5a'],\n",
       " ['Semaphore', ' 5a', ' 1'],\n",
       " ['Semaphore', ' 4', ' 6'],\n",
       " ['Semaphore', ' 6', ' 5']]"
      ]
     },
     "execution_count": 6,
     "metadata": {},
     "output_type": "execute_result"
    }
   ],
   "source": [
    "rows"
   ]
  }
 ],
 "metadata": {
  "kernelspec": {
   "display_name": "Python 3",
   "language": "python",
   "name": "python3"
  },
  "language_info": {
   "codemirror_mode": {
    "name": "ipython",
    "version": 3
   },
   "file_extension": ".py",
   "mimetype": "text/x-python",
   "name": "python",
   "nbconvert_exporter": "python",
   "pygments_lexer": "ipython3",
   "version": "3.10.2"
  },
  "orig_nbformat": 4
 },
 "nbformat": 4,
 "nbformat_minor": 2
}

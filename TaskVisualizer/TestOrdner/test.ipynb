{
 "cells": [
  {
   "cell_type": "code",
   "execution_count": 1,
   "metadata": {},
   "outputs": [],
   "source": [
    "import csv\n",
    "import numpy as np\n",
    "from typing import List"
   ]
  },
  {
   "cell_type": "code",
   "execution_count": 2,
   "metadata": {},
   "outputs": [],
   "source": [
    "rows = []"
   ]
  },
  {
   "cell_type": "code",
   "execution_count": 5,
   "metadata": {},
   "outputs": [],
   "source": [
    "with open(\"../../example-structure.csv\", \"r\") as f:\n",
    "                reader = csv.reader(f)\n",
    "                rows = [row for row in reader]"
   ]
  },
  {
   "cell_type": "code",
   "execution_count": 15,
   "metadata": {},
   "outputs": [
    {
     "name": "stdout",
     "output_type": "stream",
     "text": [
      "Pre growth: 4\n",
      "Post growth: 5\n",
      "==============\n",
      "Post rain: 6\n"
     ]
    }
   ],
   "source": [
    "class Tree():\n",
    "    def __init__(self):\n",
    "        self.size = 5\n",
    "    def grow(self):\n",
    "        self.size += 1\n",
    "class Weather():\n",
    "    def __init__(self):\n",
    "        self.size = 5\n",
    "    def rain(self, tree: Tree):\n",
    "        tree.size += 1\n",
    "\n",
    "tree = Tree()\n",
    "weather = Weather()\n",
    "tree.size = 4\n",
    "print(f\"Pre growth: {tree.size}\")\n",
    "tree.grow()\n",
    "print(f\"Post growth: {tree.size}\")\n",
    "print(\"==============\")\n",
    "weather.rain(tree)\n",
    "print(f\"Post rain: {tree.size}\")\n"
   ]
  },
  {
   "cell_type": "code",
   "execution_count": 12,
   "metadata": {},
   "outputs": [
    {
     "name": "stdout",
     "output_type": "stream",
     "text": [
      "Activity\n",
      "Activity\n",
      "Activity\n",
      "Activity\n",
      "Activity\n",
      "Activity\n",
      "Activity\n",
      "Activity\n",
      "Activity\n",
      "Activity\n",
      "Activity\n",
      "Activity\n",
      "Activity\n",
      "Activity\n",
      "Task\n",
      "Task\n",
      "Task\n",
      "Task\n",
      "Task\n",
      "Task\n",
      "Task\n",
      "Mutex\n",
      "Semaphore\n",
      "Semaphore\n",
      "Semaphore\n",
      "Semaphore\n",
      "Semaphore\n",
      "Semaphore\n",
      "Semaphore\n",
      "Semaphore\n",
      "Semaphore\n",
      "Semaphore\n",
      "Semaphore\n",
      "Semaphore\n"
     ]
    },
    {
     "data": {
      "text/plain": [
       "[['Activity', ' 1', ' 8'],\n",
       " ['Activity', ' 2', ' 8'],\n",
       " ['Activity', ' 3', ' 8'],\n",
       " ['Activity', ' 4', ' 8'],\n",
       " ['Activity', ' 5a', ' 8'],\n",
       " ['Activity', ' 5b', ' 8'],\n",
       " ['Activity', ' 6', ' 8'],\n",
       " ['Task', ' 1', ' 1'],\n",
       " ['Task', ' 2', ' 2'],\n",
       " ['Task', ' 3', ' 3'],\n",
       " ['Task', ' 4', ' 4'],\n",
       " ['Task', ' 5', ' 5a'],\n",
       " ['Task', ' 5', ' 5b'],\n",
       " ['Task', ' 6', ' 6'],\n",
       " ['Mutex', ' 2', '3', '4'],\n",
       " ['Semaphore', ' 1', ' 2'],\n",
       " ['Semaphore', ' 2', ' 4'],\n",
       " ['Semaphore', ' 1', ' 3'],\n",
       " ['Semaphore', ' 3', ' 6'],\n",
       " ['Semaphore', ' 2', ' 4'],\n",
       " ['Semaphore', ' 4', ' 6'],\n",
       " ['Semaphore', ' 6', ' 5'],\n",
       " ['Semaphore', ' 5a', ' 5b'],\n",
       " ['Semaphore', ' 5b', ' 5a'],\n",
       " ['Semaphore', ' 5a', ' 1'],\n",
       " ['Semaphore', ' 4', ' 6'],\n",
       " ['Semaphore', ' 6', ' 5 ']]"
      ]
     },
     "execution_count": 12,
     "metadata": {},
     "output_type": "execute_result"
    }
   ],
   "source": [
    "for object in rows:\n",
    "    print(object[0])\n",
    "    if object[0] == \"Activity\":\n",
    "        print(object[0])\n",
    "rows"
   ]
  }
 ],
 "metadata": {
  "kernelspec": {
   "display_name": "Python 3",
   "language": "python",
   "name": "python3"
  },
  "language_info": {
   "codemirror_mode": {
    "name": "ipython",
    "version": 3
   },
   "file_extension": ".py",
   "mimetype": "text/x-python",
   "name": "python",
   "nbconvert_exporter": "python",
   "pygments_lexer": "ipython3",
   "version": "3.10.2"
  },
  "orig_nbformat": 4
 },
 "nbformat": 4,
 "nbformat_minor": 2
}
